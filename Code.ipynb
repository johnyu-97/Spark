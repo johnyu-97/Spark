{
  "cells": [
    {
      "cell_type": "code",
      "execution_count": 1,
      "metadata": {
        "colab": {
          "base_uri": "https://localhost:8080/"
        },
        "id": "hUUdt_fRIHSi",
        "outputId": "ae902a6a-190c-45fd-e458-c9d0a1845ba6"
      },
      "outputs": [
        {
          "name": "stdout",
          "output_type": "stream",
          "text": [
            "Mounted at /content/drive\n"
          ]
        }
      ],
      "source": [
        "from google.colab import drive\n",
        "drive.mount('/content/drive')"
      ]
    },
    {
      "cell_type": "markdown",
      "metadata": {
        "id": "VfaLHcDrJmwX"
      },
      "source": [
        "## Setup\n",
        "\n",
        "First, let's setup Spark in this environment, installing the corresponding dependencies by the following commands."
      ]
    },
    {
      "cell_type": "code",
      "execution_count": 2,
      "metadata": {
        "colab": {
          "base_uri": "https://localhost:8080/"
        },
        "id": "D4_n_l2gJMX2",
        "outputId": "556d5ec0-376f-4626-99e4-f143872fad6c"
      },
      "outputs": [
        {
          "name": "stdout",
          "output_type": "stream",
          "text": [
            "Collecting pyspark\n",
            "  Downloading pyspark-3.4.1.tar.gz (310.8 MB)\n",
            "\u001b[2K     \u001b[90m━━━━━━━━━━━━━━━━━━━━━━━━━━━━━━━━━━━━━━━\u001b[0m \u001b[32m310.8/310.8 MB\u001b[0m \u001b[31m3.9 MB/s\u001b[0m eta \u001b[36m0:00:00\u001b[0m\n",
            "\u001b[?25h  Preparing metadata (setup.py) ... \u001b[?25l\u001b[?25hdone\n",
            "Requirement already satisfied: py4j==0.10.9.7 in /usr/local/lib/python3.10/dist-packages (from pyspark) (0.10.9.7)\n",
            "Building wheels for collected packages: pyspark\n",
            "  Building wheel for pyspark (setup.py) ... \u001b[?25l\u001b[?25hdone\n",
            "  Created wheel for pyspark: filename=pyspark-3.4.1-py2.py3-none-any.whl size=311285398 sha256=fa6c6b00ba67c89b7910f50610937d3aab6783183350c7df27a9148b777ca1cf\n",
            "  Stored in directory: /root/.cache/pip/wheels/0d/77/a3/ff2f74cc9ab41f8f594dabf0579c2a7c6de920d584206e0834\n",
            "Successfully built pyspark\n",
            "Installing collected packages: pyspark\n",
            "Successfully installed pyspark-3.4.1\n",
            "The following additional packages will be installed:\n",
            "  libxtst6 openjdk-8-jre-headless\n",
            "Suggested packages:\n",
            "  openjdk-8-demo openjdk-8-source libnss-mdns fonts-dejavu-extra\n",
            "  fonts-ipafont-gothic fonts-ipafont-mincho fonts-wqy-microhei\n",
            "  fonts-wqy-zenhei fonts-indic\n",
            "The following NEW packages will be installed:\n",
            "  libxtst6 openjdk-8-jdk-headless openjdk-8-jre-headless\n",
            "0 upgraded, 3 newly installed, 0 to remove and 15 not upgraded.\n",
            "Need to get 36.5 MB of archives.\n",
            "After this operation, 144 MB of additional disk space will be used.\n",
            "Selecting previously unselected package libxtst6:amd64.\n",
            "(Reading database ... 123105 files and directories currently installed.)\n",
            "Preparing to unpack .../libxtst6_2%3a1.2.3-1_amd64.deb ...\n",
            "Unpacking libxtst6:amd64 (2:1.2.3-1) ...\n",
            "Selecting previously unselected package openjdk-8-jre-headless:amd64.\n",
            "Preparing to unpack .../openjdk-8-jre-headless_8u372-ga~us1-0ubuntu1~20.04_amd64.deb ...\n",
            "Unpacking openjdk-8-jre-headless:amd64 (8u372-ga~us1-0ubuntu1~20.04) ...\n",
            "Selecting previously unselected package openjdk-8-jdk-headless:amd64.\n",
            "Preparing to unpack .../openjdk-8-jdk-headless_8u372-ga~us1-0ubuntu1~20.04_amd64.deb ...\n",
            "Unpacking openjdk-8-jdk-headless:amd64 (8u372-ga~us1-0ubuntu1~20.04) ...\n",
            "Setting up libxtst6:amd64 (2:1.2.3-1) ...\n",
            "Setting up openjdk-8-jre-headless:amd64 (8u372-ga~us1-0ubuntu1~20.04) ...\n",
            "update-alternatives: using /usr/lib/jvm/java-8-openjdk-amd64/jre/bin/orbd to provide /usr/bin/orbd (orbd) in auto mode\n",
            "update-alternatives: using /usr/lib/jvm/java-8-openjdk-amd64/jre/bin/servertool to provide /usr/bin/servertool (servertool) in auto mode\n",
            "update-alternatives: using /usr/lib/jvm/java-8-openjdk-amd64/jre/bin/tnameserv to provide /usr/bin/tnameserv (tnameserv) in auto mode\n",
            "Setting up openjdk-8-jdk-headless:amd64 (8u372-ga~us1-0ubuntu1~20.04) ...\n",
            "update-alternatives: using /usr/lib/jvm/java-8-openjdk-amd64/bin/idlj to provide /usr/bin/idlj (idlj) in auto mode\n",
            "update-alternatives: using /usr/lib/jvm/java-8-openjdk-amd64/bin/wsimport to provide /usr/bin/wsimport (wsimport) in auto mode\n",
            "update-alternatives: using /usr/lib/jvm/java-8-openjdk-amd64/bin/jsadebugd to provide /usr/bin/jsadebugd (jsadebugd) in auto mode\n",
            "update-alternatives: using /usr/lib/jvm/java-8-openjdk-amd64/bin/native2ascii to provide /usr/bin/native2ascii (native2ascii) in auto mode\n",
            "update-alternatives: using /usr/lib/jvm/java-8-openjdk-amd64/bin/javah to provide /usr/bin/javah (javah) in auto mode\n",
            "update-alternatives: using /usr/lib/jvm/java-8-openjdk-amd64/bin/clhsdb to provide /usr/bin/clhsdb (clhsdb) in auto mode\n",
            "update-alternatives: using /usr/lib/jvm/java-8-openjdk-amd64/bin/jhat to provide /usr/bin/jhat (jhat) in auto mode\n",
            "update-alternatives: using /usr/lib/jvm/java-8-openjdk-amd64/bin/extcheck to provide /usr/bin/extcheck (extcheck) in auto mode\n",
            "update-alternatives: using /usr/lib/jvm/java-8-openjdk-amd64/bin/hsdb to provide /usr/bin/hsdb (hsdb) in auto mode\n",
            "update-alternatives: using /usr/lib/jvm/java-8-openjdk-amd64/bin/schemagen to provide /usr/bin/schemagen (schemagen) in auto mode\n",
            "update-alternatives: using /usr/lib/jvm/java-8-openjdk-amd64/bin/xjc to provide /usr/bin/xjc (xjc) in auto mode\n",
            "update-alternatives: using /usr/lib/jvm/java-8-openjdk-amd64/bin/wsgen to provide /usr/bin/wsgen (wsgen) in auto mode\n",
            "Processing triggers for libc-bin (2.31-0ubuntu9.9) ...\n"
          ]
        }
      ],
      "source": [
        "!pip install pyspark\n",
        "!pip install -U -q PyDrive\n",
        "!apt install openjdk-8-jdk-headless -qq"
      ]
    },
    {
      "cell_type": "markdown",
      "metadata": {
        "id": "MReByVy8Kj6V"
      },
      "source": [
        "Setup the environment variable for java and JDK."
      ]
    },
    {
      "cell_type": "code",
      "execution_count": 3,
      "metadata": {
        "id": "8PCpA-5ZKQc1"
      },
      "outputs": [],
      "source": [
        "import os\n",
        "os.environ[\"JAVA_HOME\"] = \"/usr/lib/jvm/java-8-openjdk-amd64\""
      ]
    },
    {
      "cell_type": "markdown",
      "metadata": {
        "id": "crqgHUf3KpoW"
      },
      "source": [
        "Authenticate a Google Drive client to download the file which will be processed in this script."
      ]
    },
    {
      "cell_type": "code",
      "execution_count": 4,
      "metadata": {
        "id": "lmPsjpJQKy4a"
      },
      "outputs": [],
      "source": [
        "from pydrive.auth import GoogleAuth\n",
        "from pydrive.drive import GoogleDrive\n",
        "from google.colab import auth\n",
        "from oauth2client.client import GoogleCredentials\n",
        "\n",
        "# authendicate and create a PyDrive client\n",
        "auth.authenticate_user()\n",
        "google_auth = GoogleAuth()\n",
        "google_auth.credentials = GoogleCredentials.get_application_default()\n",
        "google_drive = GoogleDrive(google_auth)"
      ]
    },
    {
      "cell_type": "markdown",
      "metadata": {
        "id": "WYUKThFFM9Jd"
      },
      "source": [
        "Import the libraries which will be used in the following operations."
      ]
    },
    {
      "cell_type": "code",
      "execution_count": 5,
      "metadata": {
        "id": "UGYvGv-aNFP-"
      },
      "outputs": [],
      "source": [
        "import pandas as pd\n",
        "import numpy as np\n",
        "import matplotlib.pyplot as plt\n",
        "%matplotlib inline\n",
        "\n",
        "import pyspark\n",
        "from pyspark.sql import *\n",
        "from pyspark.sql.functions import *\n",
        "from pyspark import SparkContext, SparkConf"
      ]
    },
    {
      "cell_type": "markdown",
      "metadata": {
        "id": "cGuPSLOHNaNc"
      },
      "source": [
        "Initialize the Spark context."
      ]
    },
    {
      "cell_type": "code",
      "execution_count": 6,
      "metadata": {
        "id": "7VtLqCnPNcz8"
      },
      "outputs": [],
      "source": [
        "# create the session\n",
        "conf = SparkConf().set(\"spark.ui.port\", \"4050\")\n",
        "\n",
        "# create the context\n",
        "spark_context = pyspark.SparkContext(conf = conf)\n",
        "spark = SparkSession.builder.getOrCreate()"
      ]
    },
    {
      "cell_type": "markdown",
      "metadata": {
        "id": "7lAEpgCiNy9V"
      },
      "source": [
        "Check the current version of Spark and get its API for web interface."
      ]
    },
    {
      "cell_type": "code",
      "execution_count": 7,
      "metadata": {
        "colab": {
          "base_uri": "https://localhost:8080/",
          "height": 222
        },
        "id": "ZExBN6x2OEFA",
        "outputId": "a00df015-3121-4ccd-ecb9-4a6da2a49fb6"
      },
      "outputs": [
        {
          "data": {
            "text/html": [
              "\n",
              "            <div>\n",
              "                <p><b>SparkSession - in-memory</b></p>\n",
              "                \n",
              "        <div>\n",
              "            <p><b>SparkContext</b></p>\n",
              "\n",
              "            <p><a href=\"http://364149d229b9:4050\">Spark UI</a></p>\n",
              "\n",
              "            <dl>\n",
              "              <dt>Version</dt>\n",
              "                <dd><code>v3.4.1</code></dd>\n",
              "              <dt>Master</dt>\n",
              "                <dd><code>local[*]</code></dd>\n",
              "              <dt>AppName</dt>\n",
              "                <dd><code>pyspark-shell</code></dd>\n",
              "            </dl>\n",
              "        </div>\n",
              "        \n",
              "            </div>\n",
              "        "
            ],
            "text/plain": [
              "<pyspark.sql.session.SparkSession at 0x7fa60e11be20>"
            ]
          },
          "execution_count": 7,
          "metadata": {},
          "output_type": "execute_result"
        }
      ],
      "source": [
        "spark"
      ]
    },
    {
      "cell_type": "markdown",
      "metadata": {
        "id": "QzJt5UKfP3m4"
      },
      "source": [
        "Setting up the ngrok tunnel,setup the Spark UI as a separate website."
      ]
    },
    {
      "cell_type": "code",
      "execution_count": 8,
      "metadata": {
        "colab": {
          "base_uri": "https://localhost:8080/"
        },
        "id": "sHAyjqhxSsB5",
        "outputId": "3ef76c60-4ebd-41de-f78d-884daebab5e6"
      },
      "outputs": [
        {
          "name": "stdout",
          "output_type": "stream",
          "text": [
            "--2023-07-09 06:59:47--  https://bin.equinox.io/c/4VmDzA7iaHb/ngrok-stable-linux-amd64.zip\n",
            "Resolving bin.equinox.io (bin.equinox.io)... 52.202.168.65, 18.205.222.128, 54.237.133.81, ...\n",
            "Connecting to bin.equinox.io (bin.equinox.io)|52.202.168.65|:443... connected.\n",
            "HTTP request sent, awaiting response... 200 OK\n",
            "Length: 13921656 (13M) [application/octet-stream]\n",
            "Saving to: ‘ngrok-stable-linux-amd64.zip’\n",
            "\n",
            "ngrok-stable-linux- 100%[===================>]  13.28M  40.4MB/s    in 0.3s    \n",
            "\n",
            "2023-07-09 06:59:48 (40.4 MB/s) - ‘ngrok-stable-linux-amd64.zip’ saved [13921656/13921656]\n",
            "\n",
            "Archive:  ngrok-stable-linux-amd64.zip\n",
            "  inflating: ngrok                   \n",
            "Authtoken saved to configuration file: /root/.ngrok2/ngrok.yml\n",
            "authtoken: 2RpDQonwjz6Oi3uyOqPzO55vwsq_MFGk1k3qTbFFMHWddyM9\n"
          ]
        }
      ],
      "source": [
        "!wget https://bin.equinox.io/c/4VmDzA7iaHb/ngrok-stable-linux-amd64.zip\n",
        "!unzip ngrok-stable-linux-amd64.zip\n",
        "!./ngrok authtoken 2RpDQonwjz6Oi3uyOqPzO55vwsq_MFGk1k3qTbFFMHWddyM9\n",
        "!cat ~/.ngrok2/ngrok.yml\n",
        "get_ipython().system_raw('./ngrok http 4050 &')"
      ]
    },
    {
      "cell_type": "markdown",
      "metadata": {
        "id": "cTPLFuZGTHPq"
      },
      "source": [
        "Setup the proxy for the Spark website."
      ]
    },
    {
      "cell_type": "code",
      "execution_count": 9,
      "metadata": {
        "colab": {
          "base_uri": "https://localhost:8080/"
        },
        "id": "gA8q-4TRS4cl",
        "outputId": "72dcb783-5ce3-41f2-822e-667cae48eea6"
      },
      "outputs": [
        {
          "name": "stdout",
          "output_type": "stream",
          "text": [
            "Traceback (most recent call last):\n",
            "  File \"<string>\", line 1, in <module>\n",
            "IndexError: list index out of range\n"
          ]
        }
      ],
      "source": [
        "!curl -s http://localhost:4040/api/tunnels | python3 -c \\\n",
        "    \"import sys, json; print(json.load(sys.stdin)['tunnels'][0]['public_url'])\""
      ]
    },
    {
      "cell_type": "markdown",
      "metadata": {
        "id": "oroHykG-H4Vh"
      },
      "source": [
        "# Task 1\n",
        "Load the datasets from files."
      ]
    },
    {
      "cell_type": "code",
      "execution_count": 10,
      "metadata": {
        "id": "nnmx-tjPH7no"
      },
      "outputs": [],
      "source": [
        "goalscorers = spark.read.option(\"header\", \"true\").csv(\"/content/drive/MyDrive/COMP5434 Coding ASM 2/goalscorers.csv\")\n",
        "results = spark.read.option(\"header\", \"true\").csv(\"/content/drive/MyDrive/COMP5434 Coding ASM 2/results.csv\")"
      ]
    },
    {
      "cell_type": "markdown",
      "metadata": {
        "id": "sGFoE8q9ITMH"
      },
      "source": [
        "Check the schema of the two datasets."
      ]
    },
    {
      "cell_type": "code",
      "execution_count": 11,
      "metadata": {
        "colab": {
          "base_uri": "https://localhost:8080/"
        },
        "id": "pz8SASG8IVnA",
        "outputId": "24b44cf9-afa1-40ba-ff1b-cf6fd373a0c3"
      },
      "outputs": [
        {
          "name": "stdout",
          "output_type": "stream",
          "text": [
            "root\n",
            " |-- date: string (nullable = true)\n",
            " |-- home_team: string (nullable = true)\n",
            " |-- away_team: string (nullable = true)\n",
            " |-- team: string (nullable = true)\n",
            " |-- scorer: string (nullable = true)\n",
            " |-- minute: integer (nullable = true)\n",
            " |-- own_goal: boolean (nullable = true)\n",
            " |-- penalty: boolean (nullable = true)\n",
            "\n"
          ]
        }
      ],
      "source": [
        "goalscorers = goalscorers.withColumn(\"minute\", goalscorers[\"minute\"].cast(\"integer\"))\\\n",
        "                          .withColumn(\"own_goal\", goalscorers[\"own_goal\"].cast(\"boolean\"))\\\n",
        "                          .withColumn(\"penalty\", goalscorers[\"penalty\"].cast(\"boolean\"))\n",
        "goalscorers.printSchema()"
      ]
    },
    {
      "cell_type": "code",
      "execution_count": 12,
      "metadata": {
        "colab": {
          "base_uri": "https://localhost:8080/"
        },
        "id": "6vLPlT2nIbaP",
        "outputId": "68081f0f-afdf-4336-9849-8affa4902d87"
      },
      "outputs": [
        {
          "name": "stdout",
          "output_type": "stream",
          "text": [
            "root\n",
            " |-- date: string (nullable = true)\n",
            " |-- home_team: string (nullable = true)\n",
            " |-- away_team: string (nullable = true)\n",
            " |-- home_score: string (nullable = true)\n",
            " |-- away_score: string (nullable = true)\n",
            " |-- tournament: string (nullable = true)\n",
            " |-- city: string (nullable = true)\n",
            " |-- country: string (nullable = true)\n",
            " |-- neutral: string (nullable = true)\n",
            "\n"
          ]
        }
      ],
      "source": [
        "results.printSchema()"
      ]
    },
    {
      "cell_type": "markdown",
      "metadata": {
        "id": "2iFzUOIRI15G"
      },
      "source": [
        "Using the `show()` function to get a formatted sample ."
      ]
    },
    {
      "cell_type": "code",
      "execution_count": 13,
      "metadata": {
        "colab": {
          "base_uri": "https://localhost:8080/"
        },
        "id": "7z-aBXvHI-Gf",
        "outputId": "ada27065-beef-4ee9-f7bc-77cc173cb128"
      },
      "outputs": [
        {
          "name": "stdout",
          "output_type": "stream",
          "text": [
            "+----------+---------+---------+---------+--------------------+------+--------+-------+\n",
            "|      date|home_team|away_team|     team|              scorer|minute|own_goal|penalty|\n",
            "+----------+---------+---------+---------+--------------------+------+--------+-------+\n",
            "|1916-07-02|    Chile|  Uruguay|  Uruguay|     José Piendibene|    44|   false|  false|\n",
            "|1916-07-02|    Chile|  Uruguay|  Uruguay|    Isabelino Gradín|    55|   false|  false|\n",
            "|1916-07-02|    Chile|  Uruguay|  Uruguay|    Isabelino Gradín|    70|   false|  false|\n",
            "|1916-07-02|    Chile|  Uruguay|  Uruguay|     José Piendibene|    75|   false|  false|\n",
            "|1916-07-06|Argentina|    Chile|Argentina|       Alberto Ohaco|     2|   false|  false|\n",
            "|1916-07-06|Argentina|    Chile|    Chile|      Telésforo Báez|    44|   false|  false|\n",
            "|1916-07-06|Argentina|    Chile|Argentina|  Juan Domingo Brown|    60|   false|   true|\n",
            "|1916-07-06|Argentina|    Chile|Argentina|  Juan Domingo Brown|    62|   false|   true|\n",
            "|1916-07-06|Argentina|    Chile|Argentina|Alberto Marcovecchio|    67|   false|  false|\n",
            "|1916-07-06|Argentina|    Chile|Argentina|       Alberto Ohaco|    75|   false|  false|\n",
            "|1916-07-06|Argentina|    Chile|Argentina|Alberto Marcovecchio|    81|   false|  false|\n",
            "|1916-07-08|   Brazil|    Chile|   Brazil|Demóstenes Correi...|    29|   false|  false|\n",
            "|1916-07-08|   Brazil|    Chile|    Chile|    Hernando Salazar|    85|   false|  false|\n",
            "|1916-07-10|Argentina|   Brazil|Argentina|  José Durand Laguna|    10|   false|  false|\n",
            "|1916-07-10|Argentina|   Brazil|   Brazil|Manoel Alencar Monte|    23|   false|  false|\n",
            "|1916-07-12|   Brazil|  Uruguay|   Brazil| Arthur Friedenreich|     8|   false|  false|\n",
            "|1916-07-12|   Brazil|  Uruguay|  Uruguay|    Isabelino Gradín|    58|   false|  false|\n",
            "|1916-07-12|   Brazil|  Uruguay|  Uruguay|        Jose Tognola|    77|   false|  false|\n",
            "|1917-09-30|  Uruguay|    Chile|  Uruguay|      Carlos Scarone|    20|   false|  false|\n",
            "|1917-09-30|  Uruguay|    Chile|  Uruguay|        Ángel Romano|    44|   false|  false|\n",
            "+----------+---------+---------+---------+--------------------+------+--------+-------+\n",
            "only showing top 20 rows\n",
            "\n",
            "+----------+----------------+---------+----------+----------+----------+---------+--------+-------+\n",
            "|      date|       home_team|away_team|home_score|away_score|tournament|     city| country|neutral|\n",
            "+----------+----------------+---------+----------+----------+----------+---------+--------+-------+\n",
            "|1872-11-30|        Scotland|  England|         0|         0|  Friendly|  Glasgow|Scotland|  FALSE|\n",
            "|1873-03-08|         England| Scotland|         4|         2|  Friendly|   London| England|  FALSE|\n",
            "|1874-03-07|        Scotland|  England|         2|         1|  Friendly|  Glasgow|Scotland|  FALSE|\n",
            "|1875-03-06|         England| Scotland|         2|         2|  Friendly|   London| England|  FALSE|\n",
            "|1876-03-04|        Scotland|  England|         3|         0|  Friendly|  Glasgow|Scotland|  FALSE|\n",
            "|1876-03-25|        Scotland|    Wales|         4|         0|  Friendly|  Glasgow|Scotland|  FALSE|\n",
            "|1877-03-03|         England| Scotland|         1|         3|  Friendly|   London| England|  FALSE|\n",
            "|1877-03-05|           Wales| Scotland|         0|         2|  Friendly|  Wrexham|   Wales|  FALSE|\n",
            "|1878-03-02|        Scotland|  England|         7|         2|  Friendly|  Glasgow|Scotland|  FALSE|\n",
            "|1878-03-23|        Scotland|    Wales|         9|         0|  Friendly|  Glasgow|Scotland|  FALSE|\n",
            "|1879-01-18|         England|    Wales|         2|         1|  Friendly|   London| England|  FALSE|\n",
            "|1879-04-05|         England| Scotland|         5|         4|  Friendly|   London| England|  FALSE|\n",
            "|1879-04-07|           Wales| Scotland|         0|         3|  Friendly|  Wrexham|   Wales|  FALSE|\n",
            "|1880-03-13|        Scotland|  England|         5|         4|  Friendly|  Glasgow|Scotland|  FALSE|\n",
            "|1880-03-15|           Wales|  England|         2|         3|  Friendly|  Wrexham|   Wales|  FALSE|\n",
            "|1880-03-27|        Scotland|    Wales|         5|         1|  Friendly|  Glasgow|Scotland|  FALSE|\n",
            "|1881-02-26|         England|    Wales|         0|         1|  Friendly|Blackburn| England|  FALSE|\n",
            "|1881-03-12|         England| Scotland|         1|         6|  Friendly|   London| England|  FALSE|\n",
            "|1881-03-14|           Wales| Scotland|         1|         5|  Friendly|  Wrexham|   Wales|  FALSE|\n",
            "|1882-02-18|Northern Ireland|  England|         0|        13|  Friendly|  Belfast| Ireland|  FALSE|\n",
            "+----------+----------------+---------+----------+----------+----------+---------+--------+-------+\n",
            "only showing top 20 rows\n",
            "\n"
          ]
        }
      ],
      "source": [
        "goalscorers.show()\n",
        "results.show()"
      ]
    },
    {
      "cell_type": "markdown",
      "metadata": {
        "id": "AbCvTUuxJGZE"
      },
      "source": [
        "Using the `count()` function to count number of goal entries."
      ]
    },
    {
      "cell_type": "code",
      "execution_count": 14,
      "metadata": {
        "colab": {
          "base_uri": "https://localhost:8080/"
        },
        "id": "sc5G1kLPJbx9",
        "outputId": "2810c613-e382-47a8-c52d-1e532328c3f9"
      },
      "outputs": [
        {
          "name": "stdout",
          "output_type": "stream",
          "text": [
            "In total there are 41008 goals\n"
          ]
        }
      ],
      "source": [
        "goalscorers_count = goalscorers.count()\n",
        "print(\"In total there are {0} goals\".format(goalscorers_count))"
      ]
    },
    {
      "cell_type": "markdown",
      "metadata": {
        "id": "WAxnrC8fKBjq"
      },
      "source": [
        "# Task 2\n",
        "\n",
        "Based on the goal data goalscorers.csv, calculate and visualize the distribution of goals\n",
        "according to the happening time."
      ]
    },
    {
      "cell_type": "code",
      "execution_count": 15,
      "metadata": {
        "colab": {
          "base_uri": "https://localhost:8080/"
        },
        "id": "hFmrK8MeKeuq",
        "outputId": "b5fa4279-eeb8-451d-8f4c-319aad361250"
      },
      "outputs": [
        {
          "data": {
            "text/plain": [
              "[Row(minute=None, count=258),\n",
              " Row(minute=1, count=188),\n",
              " Row(minute=2, count=323),\n",
              " Row(minute=3, count=296),\n",
              " Row(minute=4, count=324),\n",
              " Row(minute=5, count=365),\n",
              " Row(minute=6, count=326),\n",
              " Row(minute=7, count=374),\n",
              " Row(minute=8, count=403),\n",
              " Row(minute=9, count=325),\n",
              " Row(minute=10, count=407),\n",
              " Row(minute=11, count=396),\n",
              " Row(minute=12, count=395),\n",
              " Row(minute=13, count=354),\n",
              " Row(minute=14, count=384),\n",
              " Row(minute=15, count=435),\n",
              " Row(minute=16, count=385),\n",
              " Row(minute=17, count=361),\n",
              " Row(minute=18, count=426),\n",
              " Row(minute=19, count=389)]"
            ]
          },
          "execution_count": 15,
          "metadata": {},
          "output_type": "execute_result"
        }
      ],
      "source": [
        "temp1 = goalscorers\\\n",
        "          .groupBy(\"minute\")\\\n",
        "          .count()\\\n",
        "          .sort(col(\"minute\"))\n",
        "temp1.take(20)"
      ]
    },
    {
      "cell_type": "code",
      "execution_count": 16,
      "metadata": {
        "colab": {
          "base_uri": "https://localhost:8080/",
          "height": 206
        },
        "id": "hCv28nJE3wg4",
        "outputId": "76b21550-7ba7-4a04-9110-4dfdf34ed38d"
      },
      "outputs": [
        {
          "data": {
            "text/html": [
              "\n",
              "  <div id=\"df-74fd6d0a-dab3-45f1-b421-17c6fb22fa4f\">\n",
              "    <div class=\"colab-df-container\">\n",
              "      <div>\n",
              "<style scoped>\n",
              "    .dataframe tbody tr th:only-of-type {\n",
              "        vertical-align: middle;\n",
              "    }\n",
              "\n",
              "    .dataframe tbody tr th {\n",
              "        vertical-align: top;\n",
              "    }\n",
              "\n",
              "    .dataframe thead th {\n",
              "        text-align: right;\n",
              "    }\n",
              "</style>\n",
              "<table border=\"1\" class=\"dataframe\">\n",
              "  <thead>\n",
              "    <tr style=\"text-align: right;\">\n",
              "      <th></th>\n",
              "      <th>minute</th>\n",
              "      <th>count</th>\n",
              "    </tr>\n",
              "  </thead>\n",
              "  <tbody>\n",
              "    <tr>\n",
              "      <th>0</th>\n",
              "      <td>NaN</td>\n",
              "      <td>258</td>\n",
              "    </tr>\n",
              "    <tr>\n",
              "      <th>1</th>\n",
              "      <td>1.0</td>\n",
              "      <td>188</td>\n",
              "    </tr>\n",
              "    <tr>\n",
              "      <th>2</th>\n",
              "      <td>2.0</td>\n",
              "      <td>323</td>\n",
              "    </tr>\n",
              "    <tr>\n",
              "      <th>3</th>\n",
              "      <td>3.0</td>\n",
              "      <td>296</td>\n",
              "    </tr>\n",
              "    <tr>\n",
              "      <th>4</th>\n",
              "      <td>4.0</td>\n",
              "      <td>324</td>\n",
              "    </tr>\n",
              "  </tbody>\n",
              "</table>\n",
              "</div>\n",
              "      <button class=\"colab-df-convert\" onclick=\"convertToInteractive('df-74fd6d0a-dab3-45f1-b421-17c6fb22fa4f')\"\n",
              "              title=\"Convert this dataframe to an interactive table.\"\n",
              "              style=\"display:none;\">\n",
              "        \n",
              "  <svg xmlns=\"http://www.w3.org/2000/svg\" height=\"24px\"viewBox=\"0 0 24 24\"\n",
              "       width=\"24px\">\n",
              "    <path d=\"M0 0h24v24H0V0z\" fill=\"none\"/>\n",
              "    <path d=\"M18.56 5.44l.94 2.06.94-2.06 2.06-.94-2.06-.94-.94-2.06-.94 2.06-2.06.94zm-11 1L8.5 8.5l.94-2.06 2.06-.94-2.06-.94L8.5 2.5l-.94 2.06-2.06.94zm10 10l.94 2.06.94-2.06 2.06-.94-2.06-.94-.94-2.06-.94 2.06-2.06.94z\"/><path d=\"M17.41 7.96l-1.37-1.37c-.4-.4-.92-.59-1.43-.59-.52 0-1.04.2-1.43.59L10.3 9.45l-7.72 7.72c-.78.78-.78 2.05 0 2.83L4 21.41c.39.39.9.59 1.41.59.51 0 1.02-.2 1.41-.59l7.78-7.78 2.81-2.81c.8-.78.8-2.07 0-2.86zM5.41 20L4 18.59l7.72-7.72 1.47 1.35L5.41 20z\"/>\n",
              "  </svg>\n",
              "      </button>\n",
              "      \n",
              "  <style>\n",
              "    .colab-df-container {\n",
              "      display:flex;\n",
              "      flex-wrap:wrap;\n",
              "      gap: 12px;\n",
              "    }\n",
              "\n",
              "    .colab-df-convert {\n",
              "      background-color: #E8F0FE;\n",
              "      border: none;\n",
              "      border-radius: 50%;\n",
              "      cursor: pointer;\n",
              "      display: none;\n",
              "      fill: #1967D2;\n",
              "      height: 32px;\n",
              "      padding: 0 0 0 0;\n",
              "      width: 32px;\n",
              "    }\n",
              "\n",
              "    .colab-df-convert:hover {\n",
              "      background-color: #E2EBFA;\n",
              "      box-shadow: 0px 1px 2px rgba(60, 64, 67, 0.3), 0px 1px 3px 1px rgba(60, 64, 67, 0.15);\n",
              "      fill: #174EA6;\n",
              "    }\n",
              "\n",
              "    [theme=dark] .colab-df-convert {\n",
              "      background-color: #3B4455;\n",
              "      fill: #D2E3FC;\n",
              "    }\n",
              "\n",
              "    [theme=dark] .colab-df-convert:hover {\n",
              "      background-color: #434B5C;\n",
              "      box-shadow: 0px 1px 3px 1px rgba(0, 0, 0, 0.15);\n",
              "      filter: drop-shadow(0px 1px 2px rgba(0, 0, 0, 0.3));\n",
              "      fill: #FFFFFF;\n",
              "    }\n",
              "  </style>\n",
              "\n",
              "      <script>\n",
              "        const buttonEl =\n",
              "          document.querySelector('#df-74fd6d0a-dab3-45f1-b421-17c6fb22fa4f button.colab-df-convert');\n",
              "        buttonEl.style.display =\n",
              "          google.colab.kernel.accessAllowed ? 'block' : 'none';\n",
              "\n",
              "        async function convertToInteractive(key) {\n",
              "          const element = document.querySelector('#df-74fd6d0a-dab3-45f1-b421-17c6fb22fa4f');\n",
              "          const dataTable =\n",
              "            await google.colab.kernel.invokeFunction('convertToInteractive',\n",
              "                                                     [key], {});\n",
              "          if (!dataTable) return;\n",
              "\n",
              "          const docLinkHtml = 'Like what you see? Visit the ' +\n",
              "            '<a target=\"_blank\" href=https://colab.research.google.com/notebooks/data_table.ipynb>data table notebook</a>'\n",
              "            + ' to learn more about interactive tables.';\n",
              "          element.innerHTML = '';\n",
              "          dataTable['output_type'] = 'display_data';\n",
              "          await google.colab.output.renderOutput(dataTable, element);\n",
              "          const docLink = document.createElement('div');\n",
              "          docLink.innerHTML = docLinkHtml;\n",
              "          element.appendChild(docLink);\n",
              "        }\n",
              "      </script>\n",
              "    </div>\n",
              "  </div>\n",
              "  "
            ],
            "text/plain": [
              "   minute  count\n",
              "0     NaN    258\n",
              "1     1.0    188\n",
              "2     2.0    323\n",
              "3     3.0    296\n",
              "4     4.0    324"
            ]
          },
          "execution_count": 16,
          "metadata": {},
          "output_type": "execute_result"
        }
      ],
      "source": [
        "temp1_pd = temp1.toPandas()\n",
        "temp1_pd.head()"
      ]
    },
    {
      "cell_type": "markdown",
      "metadata": {
        "id": "Ijsqsi3fX2tO"
      },
      "source": [
        "Draw a histogram to visualize the distribution of goals in each minute."
      ]
    },
    {
      "cell_type": "code",
      "execution_count": 17,
      "metadata": {
        "colab": {
          "base_uri": "https://localhost:8080/",
          "height": 520
        },
        "id": "-9JdcG-W3ja4",
        "outputId": "c8d88bba-c801-4913-a7a4-c8fd1bdc5692"
      },
      "outputs": [
        {
          "data": {
            "text/plain": [
              "Text(0.5, 1.0, 'Number of goals in everyminute of the game')"
            ]
          },
          "execution_count": 17,
          "metadata": {},
          "output_type": "execute_result"
        },
        {
          "data": {
            "image/png": "[encoded data removed]",
            "text/plain": [
              "<Figure size 2000x700 with 1 Axes>"
            ]
          },
          "metadata": {},
          "output_type": "display_data"
        }
      ],
      "source": [
        "plot = temp1_pd.plot(\n",
        "          kind=\"bar\",\n",
        "          x=\"minute\",\n",
        "          y=\"count\",\n",
        "          figsize=(20, 7),\n",
        "          log=False,\n",
        "          alpha=0.5,\n",
        "          color=\"red\"\n",
        ")\n",
        "plot.set_xlabel(\"Minutes\")\n",
        "plot.set_ylabel(\"Number of Goals\")\n",
        "plot.set_title(\"Number of goals in everyminute of the game\")"
      ]
    },
    {
      "cell_type": "markdown",
      "metadata": {
        "id": "FkrLn9Yu6bdz"
      },
      "source": [
        "# Task 3\n",
        "Based on the goal data goalscorers.csv, calculate the number of goals of each player. You should output the top 10 players’ names as well as their goal numbers.\n",
        "\n",
        "\n",
        "\n",
        "a. You should omit own goals, which cannot be taken into consideration when counting the number of goals for a specific player.\n",
        "\n",
        "b. You should rank players according to the goal numbers.\n"
      ]
    },
    {
      "cell_type": "code",
      "execution_count": 24,
      "metadata": {
        "colab": {
          "base_uri": "https://localhost:8080/"
        },
        "id": "YQxZLHqEMb5d",
        "outputId": "f3a12b1f-2dab-44ea-ecf4-1c42b21a3f0b"
      },
      "outputs": [
        {
          "name": "stdout",
          "output_type": "stream",
          "text": [
            "Top 10 scoring players\n",
            "+------------------+-----+----+\n",
            "|            scorer|count|rank|\n",
            "+------------------+-----+----+\n",
            "| Cristiano Ronaldo|   91|   1|\n",
            "|Robert Lewandowski|   56|   2|\n",
            "|      Lionel Messi|   54|   3|\n",
            "|          Ali Daei|   49|   4|\n",
            "|    Miroslav Klose|   48|   5|\n",
            "|       Carlos Ruiz|   47|   6|\n",
            "|       Luis Suárez|   46|   7|\n",
            "|      Robbie Keane|   44|   8|\n",
            "|        Harry Kane|   44|   8|\n",
            "|Zlatan Ibrahimović|   44|   8|\n",
            "+------------------+-----+----+\n",
            "only showing top 10 rows\n",
            "\n"
          ]
        }
      ],
      "source": [
        "top_scorer = goalscorers\\\n",
        "                    .groupBy(\"scorer\",\"own_goal\")\\\n",
        "                    .count()\\\n",
        "                    .filter(col(\"own_goal\")==0)\\\n",
        "                    .filter(col(\"scorer\")!='NA')\\\n",
        "                    .drop(\"own_goal\")\\\n",
        "                    .sort(desc(\"count\"))\\\n",
        "                    .withColumn(\n",
        "                    \"rank\", dense_rank().over(Window.orderBy(desc(\"count\"))))\n",
        "\n",
        "print(\"Top 10 scoring players\")\n",
        "top_scorer.show(10)"
      ]
    },
    {
      "cell_type": "markdown",
      "metadata": {
        "id": "3EHG0V4e6JDa"
      },
      "source": [
        "#Task 4\n",
        "Based on the goal data goalscorers.csv, find the top 10 players who have scored the most goals\n",
        "from penalty, and output players’ names as well as their number of penalty scores. (20 points)\n",
        "You should rank players according to the number of penalty scores."
      ]
    },
    {
      "cell_type": "code",
      "execution_count": 27,
      "metadata": {
        "colab": {
          "base_uri": "https://localhost:8080/"
        },
        "id": "pAdIz1t16S8d",
        "outputId": "2a0935ad-313a-4244-c714-95eb78ca53af"
      },
      "outputs": [
        {
          "name": "stdout",
          "output_type": "stream",
          "text": [
            "Top 10 penalty scoring players\n",
            "+------------------+-----+----+\n",
            "|            scorer|count|rank|\n",
            "+------------------+-----+----+\n",
            "| Cristiano Ronaldo|   16|   1|\n",
            "|      Lionel Messi|   14|   2|\n",
            "|        Harry Kane|   13|   3|\n",
            "|  Hristo Stoichkov|   13|   3|\n",
            "|Robert Lewandowski|   11|   5|\n",
            "| Cuauhtémoc Blanco|   11|   5|\n",
            "|      Mile Jedinak|   11|   5|\n",
            "|    Landon Donovan|   10|   8|\n",
            "|      Robbie Keane|   10|   8|\n",
            "|   Fernando Hierro|   10|   8|\n",
            "+------------------+-----+----+\n",
            "only showing top 10 rows\n",
            "\n"
          ]
        }
      ],
      "source": [
        "top_penalty_scorer = goalscorers\\\n",
        "                    .groupBy(\"scorer\",\"penalty\")\\\n",
        "                    .count()\\\n",
        "                    .filter(col(\"penalty\")==1)\\\n",
        "                    .filter(col(\"scorer\")!='NA')\\\n",
        "                    .drop(\"penalty\")\\\n",
        "                    .sort(desc(\"count\"))\\\n",
        "                    .withColumn(\n",
        "                    \"rank\", rank().over(Window.orderBy(desc(\"count\"))))\n",
        "\n",
        "print(\"Top 10 penalty scoring players\")\n",
        "top_penalty_scorer.show(10)"
      ]
    },
    {
      "cell_type": "markdown",
      "metadata": {
        "id": "AAjPPuJm6fVs"
      },
      "source": [
        "#Task 5\n",
        "Based on the match result data result.csv, calculate the winning rates of all national teams and output the ten teams with the highest winning rates."
      ]
    },
    {
      "cell_type": "markdown",
      "metadata": {
        "id": "8K1KJasReKTm"
      },
      "source": [
        "Calculate the home team and away team result separately."
      ]
    },
    {
      "cell_type": "code",
      "execution_count": 28,
      "metadata": {
        "colab": {
          "base_uri": "https://localhost:8080/"
        },
        "id": "BZuXZ3Yc6fAm",
        "outputId": "3e9d5d35-54c3-48d0-8f19-4f2f58f3c2a2"
      },
      "outputs": [
        {
          "name": "stdout",
          "output_type": "stream",
          "text": [
            "+-------------+-------------+----+-----+----+\n",
            "|         team|total_matches|wins|draws|lose|\n",
            "+-------------+-------------+----+-----+----+\n",
            "|      Kabylia|            1|   0|    0|   1|\n",
            "|       Kernow|            8|   3|    2|   3|\n",
            "|         Chad|           57|  16|   16|  25|\n",
            "|     Provence|            8|   2|    1|   5|\n",
            "|       Russia|          312| 190|   71|  51|\n",
            "|     Paraguay|          276| 134|   76|  66|\n",
            "|     Anguilla|           24|   2|    3|  19|\n",
            "|        Yemen|          103|  31|   26|  46|\n",
            "|South Ossetia|            7|   1|    2|   4|\n",
            "|      Senegal|          251| 151|   62|  38|\n",
            "|       Madrid|            1|   0|    0|   1|\n",
            "|       Sweden|          510| 298|  106| 106|\n",
            "|        Frøya|           12|   3|    1|   8|\n",
            "|     Kiribati|            5|   0|    1|   4|\n",
            "|     Ynys Môn|           29|  18|    5|   6|\n",
            "|       Guyana|          145|  54|   35|  56|\n",
            "|  Philippines|          104|  45|   20|  39|\n",
            "|       Jersey|           48|  38|    7|   3|\n",
            "|      Eritrea|           27|   7|   10|  10|\n",
            "|        Tibet|            4|   0|    1|   3|\n",
            "+-------------+-------------+----+-----+----+\n",
            "only showing top 20 rows\n",
            "\n",
            "+-------------+-------------+----+-----+-----+\n",
            "|         team|total_matches|wins|draws|loses|\n",
            "+-------------+-------------+----+-----+-----+\n",
            "|      Kabylia|            5|   1|    2|    2|\n",
            "|     Provence|            9|   2|    0|    7|\n",
            "|         Chad|           56|   7|   11|   38|\n",
            "|       Kernow|            3|   3|    0|    0|\n",
            "|       Russia|          408| 176|  119|  113|\n",
            "|     Paraguay|          475| 129|  123|  223|\n",
            "|     Anguilla|           46|   1|    4|   41|\n",
            "|        Yemen|          130|  13|   19|   98|\n",
            "|South Ossetia|            7|   3|    1|    3|\n",
            "|      Senegal|          333| 112|   94|  127|\n",
            "|       Sweden|          547| 222|  121|  204|\n",
            "|        Frøya|           18|   3|    1|   14|\n",
            "|     Kiribati|            6|   0|    0|    6|\n",
            "| Two Sicilies|            4|   1|    0|    3|\n",
            "|     Ynys Môn|           32|  14|    6|   12|\n",
            "|       Guyana|          137|  32|   23|   82|\n",
            "|  Philippines|          140|  21|   21|   98|\n",
            "|     Asturias|            1|   1|    0|    0|\n",
            "|       Jersey|           34|  17|    4|   13|\n",
            "|      Eritrea|           46|   4|    7|   35|\n",
            "+-------------+-------------+----+-----+-----+\n",
            "only showing top 20 rows\n",
            "\n",
            "The top ten teams (sorted by winning rate) \n",
            "+------------------+-------------+----+-----+-----+------------------+\n",
            "|              team|total_matches|wins|draws|loses|      winning_rate|\n",
            "+------------------+-------------+----+-----+-----+------------------+\n",
            "|            Surrey|            1|   1|    0|    0|               1.0|\n",
            "|          Asturias|            1|   1|    0|    0|               1.0|\n",
            "|         Maule Sur|            2|   2|    0|    0|               1.0|\n",
            "|    Canary Islands|            4|   3|    0|    1|              0.75|\n",
            "|         Yorkshire|            7|   5|    1|    1|0.7142857142857143|\n",
            "|           Padania|           43|  29|    8|    6|0.6744186046511628|\n",
            "|            Jersey|           82|  55|   11|   16|0.6707317073170732|\n",
            "|Parishes of Jersey|            3|   2|    0|    1|0.6666666666666666|\n",
            "|            Biafra|            3|   2|    0|    1|0.6666666666666666|\n",
            "|    County of Nice|            9|   6|    1|    2|0.6666666666666666|\n",
            "+------------------+-------------+----+-----+-----+------------------+\n",
            "only showing top 10 rows\n",
            "\n"
          ]
        }
      ],
      "source": [
        "# Create a new column called \"result\" that stores the match result for each match based on the home_score and away_score columns\n",
        "results_df = results.withColumn(\"result\", when(col(\"home_score\") > col(\"away_score\"), \"win\")\n",
        "                                   .when(col(\"home_score\") < col(\"away_score\"), \"lose\")\n",
        "                                   .otherwise(\"draw\"))\n",
        "\n",
        "# Group the matches by national team and count the number of matches they played, the number of matches they won, and the number of matches they drew\n",
        "home_team_results_df = results_df\\\n",
        "                              .groupBy(\"home_team\").agg(count(\"*\").alias(\"total_matches\"),\n",
        "                                                       count(when(col(\"result\") == \"win\", True)).alias(\"wins\"),\n",
        "                                                       count(when(col(\"result\") == \"draw\", True)).alias(\"draws\"),\n",
        "                                                       count(when(col(\"result\") == \"lose\", True)).alias(\"lose\"))\n",
        "\n",
        "home_team_results_df = home_team_results_df.withColumnRenamed(\"home_team\",\"team\")\n",
        "home_team_results_df.show()\n",
        "\n",
        "away_team_results_df = results_df\\\n",
        "                              .groupBy(\"away_team\").agg(count(\"*\").alias(\"total_matches\"),\n",
        "                                                       count(when(col(\"result\") == \"lose\", True)).alias(\"wins\"),\n",
        "                                                       count(when(col(\"result\") == \"draw\", True)).alias(\"draws\"),\n",
        "                                                       count(when(col(\"result\") == \"win\", True)).alias(\"loses\"))\n",
        "away_team_results_df = away_team_results_df.withColumnRenamed(\"away_team\",\"team\")\n",
        "away_team_results_df.show()"
      ]
    },
    {
      "cell_type": "markdown",
      "metadata": {
        "id": "T4ZYJPy7eGWh"
      },
      "source": [
        "Merge the result and sort for the output ranking."
      ]
    },
    {
      "cell_type": "code",
      "execution_count": null,
      "metadata": {
        "id": "SvCMkyzGeErr"
      },
      "outputs": [],
      "source": [
        "# Merge the results with the away_team results\n",
        "team_results_df = home_team_results_df\\\n",
        "                        .union(away_team_results_df)\\\n",
        "                        .groupBy(\"team\").agg(sum(\"total_matches\").alias(\"total_matches\"),\n",
        "                                              sum(\"wins\").alias(\"wins\"),\n",
        "                                              sum(\"draws\").alias(\"draws\"),\n",
        "                                              sum(\"lose\").alias(\"loses\"))\n",
        "\n",
        "# Calculate the winning rate for each national team based on the count of matches won, drew, and lost\n",
        "team_results_df = team_results_df\\\n",
        "                                 .withColumn(\"winning_rate\", col(\"wins\") / (col(\"wins\") + col(\"draws\") + col(\"loses\"))) \\\n",
        "                                 .select(\"team\", \"total_matches\", \"wins\", \"draws\", \"loses\", \"winning_rate\")\n",
        "\n",
        "# Sort the results in descending order of the winning rate and output the top ten teams\n",
        "print(\"The top ten teams (sorted by winning rate) \")\n",
        "team_results_df.orderBy(col(\"winning_rate\").desc()).show(10)"
      ]
    }
  ],
  "metadata": {
    "colab": {
      "provenance": []
    },
    "kernelspec": {
      "display_name": "Python 3 (ipykernel)",
      "language": "python",
      "name": "python3"
    },
    "language_info": {
      "codemirror_mode": {
        "name": "ipython",
        "version": 3
      },
      "file_extension": ".py",
      "mimetype": "text/x-python",
      "name": "python",
      "nbconvert_exporter": "python",
      "pygments_lexer": "ipython3",
      "version": "3.9.12"
    }
  },
  "nbformat": 4,
  "nbformat_minor": 0
}
